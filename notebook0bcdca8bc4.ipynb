{
 "cells": [
  {
   "cell_type": "code",
   "execution_count": 1,
   "metadata": {
    "_cell_guid": "b1076dfc-b9ad-4769-8c92-a6c4dae69d19",
    "_uuid": "8f2839f25d086af736a60e9eeb907d3b93b6e0e5",
    "execution": {
     "iopub.execute_input": "2020-10-18T22:25:32.611703Z",
     "iopub.status.busy": "2020-10-18T22:25:32.610731Z",
     "iopub.status.idle": "2020-10-18T22:25:32.616707Z",
     "shell.execute_reply": "2020-10-18T22:25:32.615933Z"
    },
    "papermill": {
     "duration": 0.030555,
     "end_time": "2020-10-18T22:25:32.616836",
     "exception": false,
     "start_time": "2020-10-18T22:25:32.586281",
     "status": "completed"
    },
    "tags": []
   },
   "outputs": [
    {
     "name": "stdout",
     "output_type": "stream",
     "text": [
      "/kaggle/input/climate-change-edsa2020-21/sample_submission.csv\n",
      "/kaggle/input/climate-change-edsa2020-21/test.csv\n",
      "/kaggle/input/climate-change-edsa2020-21/train.csv\n"
     ]
    }
   ],
   "source": [
    "# This Python 3 environment comes with many helpful analytics libraries installed\n",
    "# It is defined by the kaggle/python Docker image: https://github.com/kaggle/docker-python\n",
    "# For example, here's several helpful packages to load\n",
    "\n",
    "import numpy as np # linear algebra\n",
    "import pandas as pd # data processing, CSV file I/O (e.g. pd.read_csv)\n",
    "\n",
    "# Input data files are available in the read-only \"../input/\" directory\n",
    "# For example, running this (by clicking run or pressing Shift+Enter) will list all files under the input directory\n",
    "\n",
    "import os\n",
    "for dirname, _, filenames in os.walk('/kaggle/input'):\n",
    "    for filename in filenames:\n",
    "        print(os.path.join(dirname, filename))\n",
    "\n",
    "# You can write up to 5GB to the current directory (/kaggle/working/) that gets preserved as output when you create a version using \"Save & Run All\" \n",
    "# You can also write temporary files to /kaggle/temp/, but they won't be saved outside of the current session"
   ]
  },
  {
   "cell_type": "markdown",
   "metadata": {
    "papermill": {
     "duration": 0.015891,
     "end_time": "2020-10-18T22:25:32.649880",
     "exception": false,
     "start_time": "2020-10-18T22:25:32.633989",
     "status": "completed"
    },
    "tags": []
   },
   "source": []
  },
  {
   "cell_type": "code",
   "execution_count": 2,
   "metadata": {
    "_cell_guid": "79c7e3d0-c299-4dcb-8224-4455121ee9b0",
    "_uuid": "d629ff2d2480ee46fbb7e2d37f6b5fab8052498a",
    "execution": {
     "iopub.execute_input": "2020-10-18T22:25:32.689284Z",
     "iopub.status.busy": "2020-10-18T22:25:32.688526Z",
     "iopub.status.idle": "2020-10-18T22:25:34.428735Z",
     "shell.execute_reply": "2020-10-18T22:25:34.427945Z"
    },
    "papermill": {
     "duration": 1.762706,
     "end_time": "2020-10-18T22:25:34.428857",
     "exception": false,
     "start_time": "2020-10-18T22:25:32.666151",
     "status": "completed"
    },
    "tags": []
   },
   "outputs": [],
   "source": [
    "# import libraries\n",
    "\n",
    "import numpy as np\n",
    "import pandas as pd\n",
    "import re\n",
    "import nltk\n",
    "from sklearn.datasets import load_files\n",
    "\n",
    "import string\n",
    "from nltk.corpus import stopwords\n",
    "from sklearn.metrics import f1_score\n",
    "from nltk.stem import WordNetLemmatizer\n",
    "\n"
   ]
  },
  {
   "cell_type": "code",
   "execution_count": 3,
   "metadata": {
    "execution": {
     "iopub.execute_input": "2020-10-18T22:25:34.477146Z",
     "iopub.status.busy": "2020-10-18T22:25:34.476396Z",
     "iopub.status.idle": "2020-10-18T22:25:34.574391Z",
     "shell.execute_reply": "2020-10-18T22:25:34.573593Z"
    },
    "papermill": {
     "duration": 0.126864,
     "end_time": "2020-10-18T22:25:34.574516",
     "exception": false,
     "start_time": "2020-10-18T22:25:34.447652",
     "status": "completed"
    },
    "tags": []
   },
   "outputs": [],
   "source": [
    "# read the datasets\n",
    "test = pd.read_csv('../input/climate-change-edsa2020-21/test.csv')\n",
    "train = pd.read_csv('../input/climate-change-edsa2020-21/train.csv')\n"
   ]
  },
  {
   "cell_type": "code",
   "execution_count": 4,
   "metadata": {
    "execution": {
     "iopub.execute_input": "2020-10-18T22:25:34.625891Z",
     "iopub.status.busy": "2020-10-18T22:25:34.624808Z",
     "iopub.status.idle": "2020-10-18T22:25:34.633592Z",
     "shell.execute_reply": "2020-10-18T22:25:34.632856Z"
    },
    "papermill": {
     "duration": 0.042086,
     "end_time": "2020-10-18T22:25:34.633709",
     "exception": false,
     "start_time": "2020-10-18T22:25:34.591623",
     "status": "completed"
    },
    "tags": []
   },
   "outputs": [
    {
     "data": {
      "text/html": [
       "<div>\n",
       "<style scoped>\n",
       "    .dataframe tbody tr th:only-of-type {\n",
       "        vertical-align: middle;\n",
       "    }\n",
       "\n",
       "    .dataframe tbody tr th {\n",
       "        vertical-align: top;\n",
       "    }\n",
       "\n",
       "    .dataframe thead th {\n",
       "        text-align: right;\n",
       "    }\n",
       "</style>\n",
       "<table border=\"1\" class=\"dataframe\">\n",
       "  <thead>\n",
       "    <tr style=\"text-align: right;\">\n",
       "      <th></th>\n",
       "      <th>message</th>\n",
       "      <th>tweetid</th>\n",
       "    </tr>\n",
       "  </thead>\n",
       "  <tbody>\n",
       "    <tr>\n",
       "      <th>0</th>\n",
       "      <td>Europe will now be looking to China to make su...</td>\n",
       "      <td>169760</td>\n",
       "    </tr>\n",
       "    <tr>\n",
       "      <th>1</th>\n",
       "      <td>Combine this with the polling of staffers re c...</td>\n",
       "      <td>35326</td>\n",
       "    </tr>\n",
       "    <tr>\n",
       "      <th>2</th>\n",
       "      <td>The scary, unimpeachable evidence that climate...</td>\n",
       "      <td>224985</td>\n",
       "    </tr>\n",
       "    <tr>\n",
       "      <th>3</th>\n",
       "      <td>@Karoli @morgfair @OsborneInk @dailykos \\nPuti...</td>\n",
       "      <td>476263</td>\n",
       "    </tr>\n",
       "    <tr>\n",
       "      <th>4</th>\n",
       "      <td>RT @FakeWillMoore: 'Female orgasms cause globa...</td>\n",
       "      <td>872928</td>\n",
       "    </tr>\n",
       "  </tbody>\n",
       "</table>\n",
       "</div>"
      ],
      "text/plain": [
       "                                             message  tweetid\n",
       "0  Europe will now be looking to China to make su...   169760\n",
       "1  Combine this with the polling of staffers re c...    35326\n",
       "2  The scary, unimpeachable evidence that climate...   224985\n",
       "3  @Karoli @morgfair @OsborneInk @dailykos \\nPuti...   476263\n",
       "4  RT @FakeWillMoore: 'Female orgasms cause globa...   872928"
      ]
     },
     "execution_count": 4,
     "metadata": {},
     "output_type": "execute_result"
    }
   ],
   "source": [
    "test.head()"
   ]
  },
  {
   "cell_type": "code",
   "execution_count": 5,
   "metadata": {
    "execution": {
     "iopub.execute_input": "2020-10-18T22:25:34.679853Z",
     "iopub.status.busy": "2020-10-18T22:25:34.678831Z",
     "iopub.status.idle": "2020-10-18T22:25:34.683578Z",
     "shell.execute_reply": "2020-10-18T22:25:34.682986Z"
    },
    "papermill": {
     "duration": 0.032377,
     "end_time": "2020-10-18T22:25:34.683706",
     "exception": false,
     "start_time": "2020-10-18T22:25:34.651329",
     "status": "completed"
    },
    "tags": []
   },
   "outputs": [
    {
     "data": {
      "text/html": [
       "<div>\n",
       "<style scoped>\n",
       "    .dataframe tbody tr th:only-of-type {\n",
       "        vertical-align: middle;\n",
       "    }\n",
       "\n",
       "    .dataframe tbody tr th {\n",
       "        vertical-align: top;\n",
       "    }\n",
       "\n",
       "    .dataframe thead th {\n",
       "        text-align: right;\n",
       "    }\n",
       "</style>\n",
       "<table border=\"1\" class=\"dataframe\">\n",
       "  <thead>\n",
       "    <tr style=\"text-align: right;\">\n",
       "      <th></th>\n",
       "      <th>sentiment</th>\n",
       "      <th>message</th>\n",
       "      <th>tweetid</th>\n",
       "    </tr>\n",
       "  </thead>\n",
       "  <tbody>\n",
       "    <tr>\n",
       "      <th>0</th>\n",
       "      <td>1</td>\n",
       "      <td>PolySciMajor EPA chief doesn't think carbon di...</td>\n",
       "      <td>625221</td>\n",
       "    </tr>\n",
       "    <tr>\n",
       "      <th>1</th>\n",
       "      <td>1</td>\n",
       "      <td>It's not like we lack evidence of anthropogeni...</td>\n",
       "      <td>126103</td>\n",
       "    </tr>\n",
       "    <tr>\n",
       "      <th>2</th>\n",
       "      <td>2</td>\n",
       "      <td>RT @RawStory: Researchers say we have three ye...</td>\n",
       "      <td>698562</td>\n",
       "    </tr>\n",
       "    <tr>\n",
       "      <th>3</th>\n",
       "      <td>1</td>\n",
       "      <td>#TodayinMaker# WIRED : 2016 was a pivotal year...</td>\n",
       "      <td>573736</td>\n",
       "    </tr>\n",
       "    <tr>\n",
       "      <th>4</th>\n",
       "      <td>1</td>\n",
       "      <td>RT @SoyNovioDeTodas: It's 2016, and a racist, ...</td>\n",
       "      <td>466954</td>\n",
       "    </tr>\n",
       "  </tbody>\n",
       "</table>\n",
       "</div>"
      ],
      "text/plain": [
       "   sentiment                                            message  tweetid\n",
       "0          1  PolySciMajor EPA chief doesn't think carbon di...   625221\n",
       "1          1  It's not like we lack evidence of anthropogeni...   126103\n",
       "2          2  RT @RawStory: Researchers say we have three ye...   698562\n",
       "3          1  #TodayinMaker# WIRED : 2016 was a pivotal year...   573736\n",
       "4          1  RT @SoyNovioDeTodas: It's 2016, and a racist, ...   466954"
      ]
     },
     "execution_count": 5,
     "metadata": {},
     "output_type": "execute_result"
    }
   ],
   "source": [
    "train.head()\n"
   ]
  },
  {
   "cell_type": "code",
   "execution_count": 6,
   "metadata": {
    "execution": {
     "iopub.execute_input": "2020-10-18T22:25:34.726624Z",
     "iopub.status.busy": "2020-10-18T22:25:34.725704Z",
     "iopub.status.idle": "2020-10-18T22:25:34.728657Z",
     "shell.execute_reply": "2020-10-18T22:25:34.728073Z"
    },
    "papermill": {
     "duration": 0.026699,
     "end_time": "2020-10-18T22:25:34.728776",
     "exception": false,
     "start_time": "2020-10-18T22:25:34.702077",
     "status": "completed"
    },
    "tags": []
   },
   "outputs": [],
   "source": [
    "# split data into X and y\n",
    "y = train['sentiment']\n",
    "X = train['message']"
   ]
  },
  {
   "cell_type": "code",
   "execution_count": 7,
   "metadata": {
    "execution": {
     "iopub.execute_input": "2020-10-18T22:25:34.781885Z",
     "iopub.status.busy": "2020-10-18T22:25:34.780970Z",
     "iopub.status.idle": "2020-10-18T22:26:23.418373Z",
     "shell.execute_reply": "2020-10-18T22:26:23.417515Z"
    },
    "papermill": {
     "duration": 48.670775,
     "end_time": "2020-10-18T22:26:23.418515",
     "exception": false,
     "start_time": "2020-10-18T22:25:34.747740",
     "status": "completed"
    },
    "tags": []
   },
   "outputs": [],
   "source": [
    "# Pre Processing\n",
    "documents = []\n",
    "\n",
    "from nltk.stem import WordNetLemmatizer\n",
    "\n",
    "stemmer = WordNetLemmatizer()\n",
    "\n",
    "# Pre processing \n",
    "for sen in range(0, len(X)):\n",
    "    tweet = str(X[sen])\n",
    "    # \n",
    "    # lower case + remove puntuation\n",
    "    tweet = \"\".join([word.lower() for word in tweet if word not in string.punctuation])\n",
    "    # remove all single characters\n",
    "    tweet = re.sub(r'\\s+[a-zA-Z]\\s+', ' ', tweet)\n",
    "    \n",
    "    # Remove single characters from the start\n",
    "    tweet = re.sub(r'\\^[a-zA-Z]\\s+', ' ', tweet) \n",
    "    \n",
    "    # Substituting multiple spaces with single space\n",
    "    tweet = re.sub(r'\\s+', ' ', tweet, flags=re.I)\n",
    "    # renone number\n",
    "    tweet = re.sub('[0-9]+', '', tweet)\n",
    "    \n",
    "    \n",
    "    #\n",
    "    #tweet = re.compile(r\"https?://(www\\.)?\")\n",
    "    \n",
    "    tweet=re.sub(r'http\\S+', '', tweet)\n",
    "    #tweet=tweet.sub('', 'http://www.google.com/images').strip().strip('/')\n",
    "    # tokenization\n",
    "    tweet_tokens = re.split('\\W+', tweet)  \n",
    "    \n",
    "    # remove stop words\n",
    "        \n",
    "    tokens_without_sw = [word for word in tweet_tokens if not word in stopwords.words('english')]\n",
    "    # lemmatize\n",
    "    document = [stemmer.lemmatize(word) for word in tokens_without_sw]\n",
    "    document = ' '.join(document)\n",
    "    #print(document[:])\n",
    "    \n",
    "    #print(tweet)\n",
    "    \n",
    "    #tweet = ' '.join(tweet)\n",
    "\n",
    "    #print(tweet[:])\n",
    "    \n",
    "    documents.append(document)\n",
    "  "
   ]
  },
  {
   "cell_type": "code",
   "execution_count": 8,
   "metadata": {
    "execution": {
     "iopub.execute_input": "2020-10-18T22:26:23.462943Z",
     "iopub.status.busy": "2020-10-18T22:26:23.462178Z",
     "iopub.status.idle": "2020-10-18T22:26:23.468436Z",
     "shell.execute_reply": "2020-10-18T22:26:23.467636Z"
    },
    "papermill": {
     "duration": 0.031013,
     "end_time": "2020-10-18T22:26:23.468600",
     "exception": false,
     "start_time": "2020-10-18T22:26:23.437587",
     "status": "completed"
    },
    "tags": []
   },
   "outputs": [
    {
     "name": "stdout",
     "output_type": "stream",
     "text": [
      "polyscimajor epa chief doesnt think carbon dioxide main cause global warming wait via mashable\n",
      "rt rawstory researcher say three year act climate change late \n",
      "rt tveitdal percent chance avoiding dangerous global warming study find \n"
     ]
    }
   ],
   "source": [
    "# run a few checks\n",
    "print(documents[0])\n",
    "print(documents[2])\n",
    "print(documents[12])"
   ]
  },
  {
   "cell_type": "code",
   "execution_count": 9,
   "metadata": {
    "execution": {
     "iopub.execute_input": "2020-10-18T22:26:23.524140Z",
     "iopub.status.busy": "2020-10-18T22:26:23.513640Z",
     "iopub.status.idle": "2020-10-18T22:26:24.211794Z",
     "shell.execute_reply": "2020-10-18T22:26:24.210965Z"
    },
    "papermill": {
     "duration": 0.723561,
     "end_time": "2020-10-18T22:26:24.211923",
     "exception": false,
     "start_time": "2020-10-18T22:26:23.488362",
     "status": "completed"
    },
    "tags": []
   },
   "outputs": [],
   "source": [
    "# vectorise the data so the model can undertands\n",
    "from sklearn.feature_extraction.text import TfidfVectorizer\n",
    "tfidfconverter = TfidfVectorizer(max_features=1500, min_df=5, max_df=0.7, stop_words=stopwords.words('english'))\n",
    "X_vectorized = tfidfconverter.fit_transform(documents).toarray()"
   ]
  },
  {
   "cell_type": "code",
   "execution_count": 10,
   "metadata": {
    "execution": {
     "iopub.execute_input": "2020-10-18T22:26:24.258413Z",
     "iopub.status.busy": "2020-10-18T22:26:24.257571Z",
     "iopub.status.idle": "2020-10-18T22:26:24.377533Z",
     "shell.execute_reply": "2020-10-18T22:26:24.376827Z"
    },
    "papermill": {
     "duration": 0.146241,
     "end_time": "2020-10-18T22:26:24.377656",
     "exception": false,
     "start_time": "2020-10-18T22:26:24.231415",
     "status": "completed"
    },
    "tags": []
   },
   "outputs": [],
   "source": [
    "#split te data into Test and Train\n",
    "\n",
    "from sklearn.model_selection import train_test_split\n",
    "X_train,X_test,y_train,y_test = train_test_split(X_vectorized,y,test_size=0.20,shuffle=True, random_state=25)"
   ]
  },
  {
   "cell_type": "code",
   "execution_count": 11,
   "metadata": {
    "execution": {
     "iopub.execute_input": "2020-10-18T22:26:24.423672Z",
     "iopub.status.busy": "2020-10-18T22:26:24.422858Z",
     "iopub.status.idle": "2020-10-18T22:31:07.558648Z",
     "shell.execute_reply": "2020-10-18T22:31:07.557747Z"
    },
    "papermill": {
     "duration": 283.161521,
     "end_time": "2020-10-18T22:31:07.558792",
     "exception": false,
     "start_time": "2020-10-18T22:26:24.397271",
     "status": "completed"
    },
    "tags": []
   },
   "outputs": [],
   "source": [
    "# To train our machine learning model using the random forest algorithm we will \n",
    "# use RandomForestClassifier class from the sklearn.ensemble library. \n",
    "#Import Random Forest Model\n",
    "from sklearn.ensemble import RandomForestClassifier\n",
    "rfc = RandomForestClassifier(n_estimators=1000, random_state=0)\n",
    "rfc = rfc.fit(X_train, y_train) "
   ]
  },
  {
   "cell_type": "code",
   "execution_count": 12,
   "metadata": {
    "execution": {
     "iopub.execute_input": "2020-10-18T22:31:07.606406Z",
     "iopub.status.busy": "2020-10-18T22:31:07.605643Z",
     "iopub.status.idle": "2020-10-18T22:31:11.060224Z",
     "shell.execute_reply": "2020-10-18T22:31:11.059449Z"
    },
    "papermill": {
     "duration": 3.478833,
     "end_time": "2020-10-18T22:31:11.060345",
     "exception": false,
     "start_time": "2020-10-18T22:31:07.581512",
     "status": "completed"
    },
    "tags": []
   },
   "outputs": [],
   "source": [
    "# Generate predicts based on the test split\n",
    "rfc_pred = rfc.predict(X_test)"
   ]
  },
  {
   "cell_type": "code",
   "execution_count": 13,
   "metadata": {
    "execution": {
     "iopub.execute_input": "2020-10-18T22:31:11.106073Z",
     "iopub.status.busy": "2020-10-18T22:31:11.105314Z",
     "iopub.status.idle": "2020-10-18T22:31:11.111874Z",
     "shell.execute_reply": "2020-10-18T22:31:11.111243Z"
    },
    "papermill": {
     "duration": 0.031603,
     "end_time": "2020-10-18T22:31:11.112010",
     "exception": false,
     "start_time": "2020-10-18T22:31:11.080407",
     "status": "completed"
    },
    "tags": []
   },
   "outputs": [],
   "source": [
    "# get f1_score\n",
    "f1_score=f1_score(y_test,rfc_pred, average=\"macro\")"
   ]
  },
  {
   "cell_type": "code",
   "execution_count": 14,
   "metadata": {
    "execution": {
     "iopub.execute_input": "2020-10-18T22:31:11.157772Z",
     "iopub.status.busy": "2020-10-18T22:31:11.156978Z",
     "iopub.status.idle": "2020-10-18T22:31:11.161636Z",
     "shell.execute_reply": "2020-10-18T22:31:11.160915Z"
    },
    "papermill": {
     "duration": 0.029375,
     "end_time": "2020-10-18T22:31:11.161758",
     "exception": false,
     "start_time": "2020-10-18T22:31:11.132383",
     "status": "completed"
    },
    "tags": []
   },
   "outputs": [
    {
     "name": "stdout",
     "output_type": "stream",
     "text": [
      "0.5679851300525272\n"
     ]
    }
   ],
   "source": [
    "print(f1_score)"
   ]
  },
  {
   "cell_type": "code",
   "execution_count": 15,
   "metadata": {
    "execution": {
     "iopub.execute_input": "2020-10-18T22:31:11.209663Z",
     "iopub.status.busy": "2020-10-18T22:31:11.208506Z",
     "iopub.status.idle": "2020-10-18T22:31:11.223616Z",
     "shell.execute_reply": "2020-10-18T22:31:11.222670Z"
    },
    "papermill": {
     "duration": 0.041386,
     "end_time": "2020-10-18T22:31:11.223803",
     "exception": false,
     "start_time": "2020-10-18T22:31:11.182417",
     "status": "completed"
    },
    "tags": []
   },
   "outputs": [
    {
     "name": "stdout",
     "output_type": "stream",
     "text": [
      "              precision    recall  f1-score   support\n",
      "\n",
      "          -1       0.73      0.23      0.36       247\n",
      "           0       0.57      0.38      0.46       466\n",
      "           1       0.72      0.87      0.79      1749\n",
      "           2       0.70      0.65      0.67       702\n",
      "\n",
      "    accuracy                           0.70      3164\n",
      "   macro avg       0.68      0.53      0.57      3164\n",
      "weighted avg       0.69      0.70      0.68      3164\n",
      "\n"
     ]
    }
   ],
   "source": [
    "from sklearn import metrics\n",
    "\n",
    "print(metrics.classification_report(y_test, rfc_pred))"
   ]
  },
  {
   "cell_type": "code",
   "execution_count": 16,
   "metadata": {
    "execution": {
     "iopub.execute_input": "2020-10-18T22:31:11.333035Z",
     "iopub.status.busy": "2020-10-18T22:31:11.307242Z",
     "iopub.status.idle": "2020-10-18T22:31:18.508165Z",
     "shell.execute_reply": "2020-10-18T22:31:18.507371Z"
    },
    "papermill": {
     "duration": 7.263049,
     "end_time": "2020-10-18T22:31:18.508310",
     "exception": false,
     "start_time": "2020-10-18T22:31:11.245261",
     "status": "completed"
    },
    "tags": []
   },
   "outputs": [],
   "source": [
    "# model with test data\n",
    "y_pred = rfc.predict( tfidfconverter.transform(test['message']))"
   ]
  },
  {
   "cell_type": "code",
   "execution_count": 17,
   "metadata": {
    "execution": {
     "iopub.execute_input": "2020-10-18T22:31:18.563284Z",
     "iopub.status.busy": "2020-10-18T22:31:18.562255Z",
     "iopub.status.idle": "2020-10-18T22:31:18.566775Z",
     "shell.execute_reply": "2020-10-18T22:31:18.566137Z"
    },
    "papermill": {
     "duration": 0.036987,
     "end_time": "2020-10-18T22:31:18.566891",
     "exception": false,
     "start_time": "2020-10-18T22:31:18.529904",
     "status": "completed"
    },
    "tags": []
   },
   "outputs": [
    {
     "data": {
      "text/html": [
       "<div>\n",
       "<style scoped>\n",
       "    .dataframe tbody tr th:only-of-type {\n",
       "        vertical-align: middle;\n",
       "    }\n",
       "\n",
       "    .dataframe tbody tr th {\n",
       "        vertical-align: top;\n",
       "    }\n",
       "\n",
       "    .dataframe thead th {\n",
       "        text-align: right;\n",
       "    }\n",
       "</style>\n",
       "<table border=\"1\" class=\"dataframe\">\n",
       "  <thead>\n",
       "    <tr style=\"text-align: right;\">\n",
       "      <th></th>\n",
       "      <th>message</th>\n",
       "      <th>tweetid</th>\n",
       "      <th>sentiment</th>\n",
       "    </tr>\n",
       "  </thead>\n",
       "  <tbody>\n",
       "    <tr>\n",
       "      <th>0</th>\n",
       "      <td>Europe will now be looking to China to make su...</td>\n",
       "      <td>169760</td>\n",
       "      <td>2</td>\n",
       "    </tr>\n",
       "    <tr>\n",
       "      <th>1</th>\n",
       "      <td>Combine this with the polling of staffers re c...</td>\n",
       "      <td>35326</td>\n",
       "      <td>1</td>\n",
       "    </tr>\n",
       "    <tr>\n",
       "      <th>2</th>\n",
       "      <td>The scary, unimpeachable evidence that climate...</td>\n",
       "      <td>224985</td>\n",
       "      <td>1</td>\n",
       "    </tr>\n",
       "    <tr>\n",
       "      <th>3</th>\n",
       "      <td>@Karoli @morgfair @OsborneInk @dailykos \\nPuti...</td>\n",
       "      <td>476263</td>\n",
       "      <td>1</td>\n",
       "    </tr>\n",
       "    <tr>\n",
       "      <th>4</th>\n",
       "      <td>RT @FakeWillMoore: 'Female orgasms cause globa...</td>\n",
       "      <td>872928</td>\n",
       "      <td>0</td>\n",
       "    </tr>\n",
       "  </tbody>\n",
       "</table>\n",
       "</div>"
      ],
      "text/plain": [
       "                                             message  tweetid  sentiment\n",
       "0  Europe will now be looking to China to make su...   169760          2\n",
       "1  Combine this with the polling of staffers re c...    35326          1\n",
       "2  The scary, unimpeachable evidence that climate...   224985          1\n",
       "3  @Karoli @morgfair @OsborneInk @dailykos \\nPuti...   476263          1\n",
       "4  RT @FakeWillMoore: 'Female orgasms cause globa...   872928          0"
      ]
     },
     "execution_count": 17,
     "metadata": {},
     "output_type": "execute_result"
    }
   ],
   "source": [
    "#creat sentiment from the predicts\n",
    "test['sentiment'] = y_pred\n",
    "test.head()"
   ]
  },
  {
   "cell_type": "code",
   "execution_count": 18,
   "metadata": {
    "execution": {
     "iopub.execute_input": "2020-10-18T22:31:18.617961Z",
     "iopub.status.busy": "2020-10-18T22:31:18.617081Z",
     "iopub.status.idle": "2020-10-18T22:31:18.920840Z",
     "shell.execute_reply": "2020-10-18T22:31:18.920069Z"
    },
    "papermill": {
     "duration": 0.331847,
     "end_time": "2020-10-18T22:31:18.920966",
     "exception": false,
     "start_time": "2020-10-18T22:31:18.589119",
     "status": "completed"
    },
    "tags": []
   },
   "outputs": [],
   "source": [
    "# convert output to csv\n",
    "test[['tweetid','sentiment']].to_csv('tebogo_mokgonyana_Log_regresssion_submission_1.csv', index=False)"
   ]
  },
  {
   "cell_type": "code",
   "execution_count": null,
   "metadata": {
    "papermill": {
     "duration": 0.021858,
     "end_time": "2020-10-18T22:31:18.965435",
     "exception": false,
     "start_time": "2020-10-18T22:31:18.943577",
     "status": "completed"
    },
    "tags": []
   },
   "outputs": [],
   "source": []
  }
 ],
 "metadata": {
  "kernelspec": {
   "display_name": "Python 3",
   "language": "python",
   "name": "python3"
  },
  "language_info": {
   "codemirror_mode": {
    "name": "ipython",
    "version": 3
   },
   "file_extension": ".py",
   "mimetype": "text/x-python",
   "name": "python",
   "nbconvert_exporter": "python",
   "pygments_lexer": "ipython3",
   "version": "3.7.6"
  },
  "papermill": {
   "duration": 351.219322,
   "end_time": "2020-10-18T22:31:19.095266",
   "environment_variables": {},
   "exception": null,
   "input_path": "__notebook__.ipynb",
   "output_path": "__notebook__.ipynb",
   "parameters": {},
   "start_time": "2020-10-18T22:25:27.875944",
   "version": "2.1.0"
  }
 },
 "nbformat": 4,
 "nbformat_minor": 4
}
