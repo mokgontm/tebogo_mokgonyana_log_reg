{
 "cells": [
  {
   "cell_type": "code",
   "execution_count": 1,
   "metadata": {
    "_cell_guid": "b1076dfc-b9ad-4769-8c92-a6c4dae69d19",
    "_uuid": "8f2839f25d086af736a60e9eeb907d3b93b6e0e5",
    "execution": {
     "iopub.execute_input": "2020-10-18T23:50:19.495583Z",
     "iopub.status.busy": "2020-10-18T23:50:19.494207Z",
     "iopub.status.idle": "2020-10-18T23:50:19.503454Z",
     "shell.execute_reply": "2020-10-18T23:50:19.501824Z"
    },
    "papermill": {
     "duration": 0.038625,
     "end_time": "2020-10-18T23:50:19.503952",
     "exception": false,
     "start_time": "2020-10-18T23:50:19.465327",
     "status": "completed"
    },
    "tags": []
   },
   "outputs": [
    {
     "name": "stdout",
     "output_type": "stream",
     "text": [
      "/kaggle/input/climate-change-edsa2020-21/sample_submission.csv\n",
      "/kaggle/input/climate-change-edsa2020-21/test.csv\n",
      "/kaggle/input/climate-change-edsa2020-21/train.csv\n"
     ]
    }
   ],
   "source": [
    "# This Python 3 environment comes with many helpful analytics libraries installed\n",
    "# It is defined by the kaggle/python Docker image: https://github.com/kaggle/docker-python\n",
    "# For example, here's several helpful packages to load\n",
    "\n",
    "import numpy as np # linear algebra\n",
    "import pandas as pd # data processing, CSV file I/O (e.g. pd.read_csv)\n",
    "\n",
    "# Input data files are available in the read-only \"../input/\" directory\n",
    "# For example, running this (by clicking run or pressing Shift+Enter) will list all files under the input directory\n",
    "\n",
    "import os\n",
    "for dirname, _, filenames in os.walk('/kaggle/input'):\n",
    "    for filename in filenames:\n",
    "        print(os.path.join(dirname, filename))\n",
    "\n",
    "# You can write up to 5GB to the current directory (/kaggle/working/) that gets preserved as output when you create a version using \"Save & Run All\" \n",
    "# You can also write temporary files to /kaggle/temp/, but they won't be saved outside of the current session"
   ]
  },
  {
   "cell_type": "markdown",
   "metadata": {
    "papermill": {
     "duration": 0.019863,
     "end_time": "2020-10-18T23:50:19.544512",
     "exception": false,
     "start_time": "2020-10-18T23:50:19.524649",
     "status": "completed"
    },
    "tags": []
   },
   "source": []
  },
  {
   "cell_type": "code",
   "execution_count": 2,
   "metadata": {
    "_cell_guid": "79c7e3d0-c299-4dcb-8224-4455121ee9b0",
    "_uuid": "d629ff2d2480ee46fbb7e2d37f6b5fab8052498a",
    "execution": {
     "iopub.execute_input": "2020-10-18T23:50:19.593194Z",
     "iopub.status.busy": "2020-10-18T23:50:19.592228Z",
     "iopub.status.idle": "2020-10-18T23:50:21.777927Z",
     "shell.execute_reply": "2020-10-18T23:50:21.777051Z"
    },
    "papermill": {
     "duration": 2.214353,
     "end_time": "2020-10-18T23:50:21.778090",
     "exception": false,
     "start_time": "2020-10-18T23:50:19.563737",
     "status": "completed"
    },
    "tags": []
   },
   "outputs": [],
   "source": [
    "# import libraries\n",
    "\n",
    "import numpy as np\n",
    "import pandas as pd\n",
    "import re\n",
    "import nltk\n",
    "from sklearn.datasets import load_files\n",
    "\n",
    "import string\n",
    "from nltk.corpus import stopwords\n",
    "from sklearn.metrics import f1_score\n",
    "from nltk.stem import WordNetLemmatizer\n",
    "\n"
   ]
  },
  {
   "cell_type": "code",
   "execution_count": 3,
   "metadata": {
    "execution": {
     "iopub.execute_input": "2020-10-18T23:50:21.830506Z",
     "iopub.status.busy": "2020-10-18T23:50:21.829284Z",
     "iopub.status.idle": "2020-10-18T23:50:21.960225Z",
     "shell.execute_reply": "2020-10-18T23:50:21.958586Z"
    },
    "papermill": {
     "duration": 0.162261,
     "end_time": "2020-10-18T23:50:21.960429",
     "exception": false,
     "start_time": "2020-10-18T23:50:21.798168",
     "status": "completed"
    },
    "tags": []
   },
   "outputs": [],
   "source": [
    "# read the datasets\n",
    "test = pd.read_csv('../input/climate-change-edsa2020-21/test.csv')\n",
    "train = pd.read_csv('../input/climate-change-edsa2020-21/train.csv')\n"
   ]
  },
  {
   "cell_type": "code",
   "execution_count": 4,
   "metadata": {
    "execution": {
     "iopub.execute_input": "2020-10-18T23:50:22.022584Z",
     "iopub.status.busy": "2020-10-18T23:50:22.021688Z",
     "iopub.status.idle": "2020-10-18T23:50:22.031702Z",
     "shell.execute_reply": "2020-10-18T23:50:22.032408Z"
    },
    "papermill": {
     "duration": 0.050836,
     "end_time": "2020-10-18T23:50:22.032638",
     "exception": false,
     "start_time": "2020-10-18T23:50:21.981802",
     "status": "completed"
    },
    "tags": []
   },
   "outputs": [
    {
     "data": {
      "text/html": [
       "<div>\n",
       "<style scoped>\n",
       "    .dataframe tbody tr th:only-of-type {\n",
       "        vertical-align: middle;\n",
       "    }\n",
       "\n",
       "    .dataframe tbody tr th {\n",
       "        vertical-align: top;\n",
       "    }\n",
       "\n",
       "    .dataframe thead th {\n",
       "        text-align: right;\n",
       "    }\n",
       "</style>\n",
       "<table border=\"1\" class=\"dataframe\">\n",
       "  <thead>\n",
       "    <tr style=\"text-align: right;\">\n",
       "      <th></th>\n",
       "      <th>message</th>\n",
       "      <th>tweetid</th>\n",
       "    </tr>\n",
       "  </thead>\n",
       "  <tbody>\n",
       "    <tr>\n",
       "      <th>0</th>\n",
       "      <td>Europe will now be looking to China to make su...</td>\n",
       "      <td>169760</td>\n",
       "    </tr>\n",
       "    <tr>\n",
       "      <th>1</th>\n",
       "      <td>Combine this with the polling of staffers re c...</td>\n",
       "      <td>35326</td>\n",
       "    </tr>\n",
       "    <tr>\n",
       "      <th>2</th>\n",
       "      <td>The scary, unimpeachable evidence that climate...</td>\n",
       "      <td>224985</td>\n",
       "    </tr>\n",
       "    <tr>\n",
       "      <th>3</th>\n",
       "      <td>@Karoli @morgfair @OsborneInk @dailykos \\nPuti...</td>\n",
       "      <td>476263</td>\n",
       "    </tr>\n",
       "    <tr>\n",
       "      <th>4</th>\n",
       "      <td>RT @FakeWillMoore: 'Female orgasms cause globa...</td>\n",
       "      <td>872928</td>\n",
       "    </tr>\n",
       "  </tbody>\n",
       "</table>\n",
       "</div>"
      ],
      "text/plain": [
       "                                             message  tweetid\n",
       "0  Europe will now be looking to China to make su...   169760\n",
       "1  Combine this with the polling of staffers re c...    35326\n",
       "2  The scary, unimpeachable evidence that climate...   224985\n",
       "3  @Karoli @morgfair @OsborneInk @dailykos \\nPuti...   476263\n",
       "4  RT @FakeWillMoore: 'Female orgasms cause globa...   872928"
      ]
     },
     "execution_count": 4,
     "metadata": {},
     "output_type": "execute_result"
    }
   ],
   "source": [
    "test.head()"
   ]
  },
  {
   "cell_type": "code",
   "execution_count": 5,
   "metadata": {
    "execution": {
     "iopub.execute_input": "2020-10-18T23:50:22.085650Z",
     "iopub.status.busy": "2020-10-18T23:50:22.084728Z",
     "iopub.status.idle": "2020-10-18T23:50:22.090425Z",
     "shell.execute_reply": "2020-10-18T23:50:22.089647Z"
    },
    "papermill": {
     "duration": 0.036257,
     "end_time": "2020-10-18T23:50:22.090560",
     "exception": false,
     "start_time": "2020-10-18T23:50:22.054303",
     "status": "completed"
    },
    "tags": []
   },
   "outputs": [
    {
     "data": {
      "text/html": [
       "<div>\n",
       "<style scoped>\n",
       "    .dataframe tbody tr th:only-of-type {\n",
       "        vertical-align: middle;\n",
       "    }\n",
       "\n",
       "    .dataframe tbody tr th {\n",
       "        vertical-align: top;\n",
       "    }\n",
       "\n",
       "    .dataframe thead th {\n",
       "        text-align: right;\n",
       "    }\n",
       "</style>\n",
       "<table border=\"1\" class=\"dataframe\">\n",
       "  <thead>\n",
       "    <tr style=\"text-align: right;\">\n",
       "      <th></th>\n",
       "      <th>sentiment</th>\n",
       "      <th>message</th>\n",
       "      <th>tweetid</th>\n",
       "    </tr>\n",
       "  </thead>\n",
       "  <tbody>\n",
       "    <tr>\n",
       "      <th>0</th>\n",
       "      <td>1</td>\n",
       "      <td>PolySciMajor EPA chief doesn't think carbon di...</td>\n",
       "      <td>625221</td>\n",
       "    </tr>\n",
       "    <tr>\n",
       "      <th>1</th>\n",
       "      <td>1</td>\n",
       "      <td>It's not like we lack evidence of anthropogeni...</td>\n",
       "      <td>126103</td>\n",
       "    </tr>\n",
       "    <tr>\n",
       "      <th>2</th>\n",
       "      <td>2</td>\n",
       "      <td>RT @RawStory: Researchers say we have three ye...</td>\n",
       "      <td>698562</td>\n",
       "    </tr>\n",
       "    <tr>\n",
       "      <th>3</th>\n",
       "      <td>1</td>\n",
       "      <td>#TodayinMaker# WIRED : 2016 was a pivotal year...</td>\n",
       "      <td>573736</td>\n",
       "    </tr>\n",
       "    <tr>\n",
       "      <th>4</th>\n",
       "      <td>1</td>\n",
       "      <td>RT @SoyNovioDeTodas: It's 2016, and a racist, ...</td>\n",
       "      <td>466954</td>\n",
       "    </tr>\n",
       "  </tbody>\n",
       "</table>\n",
       "</div>"
      ],
      "text/plain": [
       "   sentiment                                            message  tweetid\n",
       "0          1  PolySciMajor EPA chief doesn't think carbon di...   625221\n",
       "1          1  It's not like we lack evidence of anthropogeni...   126103\n",
       "2          2  RT @RawStory: Researchers say we have three ye...   698562\n",
       "3          1  #TodayinMaker# WIRED : 2016 was a pivotal year...   573736\n",
       "4          1  RT @SoyNovioDeTodas: It's 2016, and a racist, ...   466954"
      ]
     },
     "execution_count": 5,
     "metadata": {},
     "output_type": "execute_result"
    }
   ],
   "source": [
    "train.head()\n"
   ]
  },
  {
   "cell_type": "code",
   "execution_count": 6,
   "metadata": {
    "execution": {
     "iopub.execute_input": "2020-10-18T23:50:22.135807Z",
     "iopub.status.busy": "2020-10-18T23:50:22.134952Z",
     "iopub.status.idle": "2020-10-18T23:50:22.138923Z",
     "shell.execute_reply": "2020-10-18T23:50:22.137840Z"
    },
    "papermill": {
     "duration": 0.029516,
     "end_time": "2020-10-18T23:50:22.139107",
     "exception": false,
     "start_time": "2020-10-18T23:50:22.109591",
     "status": "completed"
    },
    "tags": []
   },
   "outputs": [],
   "source": [
    "# split data into X and y\n",
    "y = train['sentiment']\n",
    "X = train['message']"
   ]
  },
  {
   "cell_type": "code",
   "execution_count": 7,
   "metadata": {
    "execution": {
     "iopub.execute_input": "2020-10-18T23:50:22.198307Z",
     "iopub.status.busy": "2020-10-18T23:50:22.196877Z",
     "iopub.status.idle": "2020-10-18T23:51:11.662282Z",
     "shell.execute_reply": "2020-10-18T23:51:11.661341Z"
    },
    "papermill": {
     "duration": 49.501951,
     "end_time": "2020-10-18T23:51:11.662445",
     "exception": false,
     "start_time": "2020-10-18T23:50:22.160494",
     "status": "completed"
    },
    "tags": []
   },
   "outputs": [],
   "source": [
    "# Pre Processing\n",
    "documents = []\n",
    "\n",
    "from nltk.stem import WordNetLemmatizer\n",
    "\n",
    "stemmer = WordNetLemmatizer()\n",
    "\n",
    "# Pre processing \n",
    "for sen in range(0, len(X)):\n",
    "    tweet = str(X[sen])\n",
    "    # \n",
    "    # lower case + remove puntuation\n",
    "    tweet = \"\".join([word.lower() for word in tweet if word not in string.punctuation])\n",
    "    # remove all single characters\n",
    "    tweet = re.sub(r'\\s+[a-zA-Z]\\s+', ' ', tweet)\n",
    "    \n",
    "    # Remove single characters from the start\n",
    "    tweet = re.sub(r'\\^[a-zA-Z]\\s+', ' ', tweet) \n",
    "    \n",
    "    # Substituting multiple spaces with single space\n",
    "    tweet = re.sub(r'\\s+', ' ', tweet, flags=re.I)\n",
    "    # renone number\n",
    "    tweet = re.sub('[0-9]+', '', tweet)\n",
    "   \n",
    "    #tweet = re.compile(r\"https?://(www\\.)?\")\n",
    "    \n",
    "    tweet=re.sub(r'http\\S+', '', tweet)\n",
    "    #tweet=tweet.sub('', 'http://www.google.com/images').strip().strip('/')\n",
    "   \n",
    "\n",
    "     # tokenization\n",
    "    tweet_tokens = re.split('\\W+', tweet)\n",
    "    # remove stop words\n",
    "    \n",
    "        \n",
    "    tokens_without_sw = [word for word in tweet_tokens if not word in stopwords.words('english')]\n",
    "    # lemmatize\n",
    "    document = [stemmer.lemmatize(word) for word in tokens_without_sw]\n",
    "    document = ' '.join(document)\n",
    "      \n",
    "    documents.append(document)\n",
    "  "
   ]
  },
  {
   "cell_type": "code",
   "execution_count": 8,
   "metadata": {
    "execution": {
     "iopub.execute_input": "2020-10-18T23:51:11.709643Z",
     "iopub.status.busy": "2020-10-18T23:51:11.708872Z",
     "iopub.status.idle": "2020-10-18T23:51:11.713657Z",
     "shell.execute_reply": "2020-10-18T23:51:11.714750Z"
    },
    "papermill": {
     "duration": 0.032692,
     "end_time": "2020-10-18T23:51:11.714966",
     "exception": false,
     "start_time": "2020-10-18T23:51:11.682274",
     "status": "completed"
    },
    "tags": []
   },
   "outputs": [
    {
     "name": "stdout",
     "output_type": "stream",
     "text": [
      "polyscimajor epa chief doesnt think carbon dioxide main cause global warming wait via mashable\n",
      "rt rawstory researcher say three year act climate change late \n",
      "rt tveitdal percent chance avoiding dangerous global warming study find \n"
     ]
    }
   ],
   "source": [
    "# run a few checks\n",
    "print(documents[0])\n",
    "print(documents[2])\n",
    "print(documents[12])"
   ]
  },
  {
   "cell_type": "code",
   "execution_count": 9,
   "metadata": {
    "execution": {
     "iopub.execute_input": "2020-10-18T23:51:11.783898Z",
     "iopub.status.busy": "2020-10-18T23:51:11.778657Z",
     "iopub.status.idle": "2020-10-18T23:51:12.518678Z",
     "shell.execute_reply": "2020-10-18T23:51:12.517730Z"
    },
    "papermill": {
     "duration": 0.783446,
     "end_time": "2020-10-18T23:51:12.518936",
     "exception": false,
     "start_time": "2020-10-18T23:51:11.735490",
     "status": "completed"
    },
    "tags": []
   },
   "outputs": [],
   "source": [
    "# vectorise the data so the model can undertands\n",
    "from sklearn.feature_extraction.text import TfidfVectorizer\n",
    "tfidfconverter = TfidfVectorizer(max_features=1500, min_df=5, max_df=0.7, stop_words=stopwords.words('english'))\n",
    "X_vectorized = tfidfconverter.fit_transform(documents).toarray()"
   ]
  },
  {
   "cell_type": "code",
   "execution_count": 10,
   "metadata": {
    "execution": {
     "iopub.execute_input": "2020-10-18T23:51:12.571876Z",
     "iopub.status.busy": "2020-10-18T23:51:12.571009Z",
     "iopub.status.idle": "2020-10-18T23:51:12.691356Z",
     "shell.execute_reply": "2020-10-18T23:51:12.690497Z"
    },
    "papermill": {
     "duration": 0.150219,
     "end_time": "2020-10-18T23:51:12.691501",
     "exception": false,
     "start_time": "2020-10-18T23:51:12.541282",
     "status": "completed"
    },
    "tags": []
   },
   "outputs": [],
   "source": [
    "#split te data into Test and Train\n",
    "\n",
    "from sklearn.model_selection import train_test_split\n",
    "X_train,X_test,y_train,y_test = train_test_split(X_vectorized,y,test_size=0.20,shuffle=True, random_state=25)"
   ]
  },
  {
   "cell_type": "code",
   "execution_count": 11,
   "metadata": {
    "execution": {
     "iopub.execute_input": "2020-10-18T23:51:12.739341Z",
     "iopub.status.busy": "2020-10-18T23:51:12.738427Z",
     "iopub.status.idle": "2020-10-18T23:56:04.774240Z",
     "shell.execute_reply": "2020-10-18T23:56:04.773441Z"
    },
    "papermill": {
     "duration": 292.062319,
     "end_time": "2020-10-18T23:56:04.774398",
     "exception": false,
     "start_time": "2020-10-18T23:51:12.712079",
     "status": "completed"
    },
    "tags": []
   },
   "outputs": [],
   "source": [
    "# To train our machine learning model using the random forest algorithm we will \n",
    "# use RandomForestClassifier class from the sklearn.ensemble library. \n",
    "#Import Random Forest Model\n",
    "from sklearn.ensemble import RandomForestClassifier\n",
    "rfc = RandomForestClassifier(n_estimators=1000, random_state=0)\n",
    "rfc = rfc.fit(X_train, y_train) "
   ]
  },
  {
   "cell_type": "code",
   "execution_count": 12,
   "metadata": {
    "execution": {
     "iopub.execute_input": "2020-10-18T23:56:04.822557Z",
     "iopub.status.busy": "2020-10-18T23:56:04.821592Z",
     "iopub.status.idle": "2020-10-18T23:56:08.571637Z",
     "shell.execute_reply": "2020-10-18T23:56:08.570717Z"
    },
    "papermill": {
     "duration": 3.776445,
     "end_time": "2020-10-18T23:56:08.571805",
     "exception": false,
     "start_time": "2020-10-18T23:56:04.795360",
     "status": "completed"
    },
    "tags": []
   },
   "outputs": [],
   "source": [
    "# Generate predicts based on the test split\n",
    "rfc_pred = rfc.predict(X_test)"
   ]
  },
  {
   "cell_type": "code",
   "execution_count": 13,
   "metadata": {
    "execution": {
     "iopub.execute_input": "2020-10-18T23:56:08.625899Z",
     "iopub.status.busy": "2020-10-18T23:56:08.624726Z",
     "iopub.status.idle": "2020-10-18T23:56:08.632000Z",
     "shell.execute_reply": "2020-10-18T23:56:08.631355Z"
    },
    "papermill": {
     "duration": 0.037356,
     "end_time": "2020-10-18T23:56:08.632144",
     "exception": false,
     "start_time": "2020-10-18T23:56:08.594788",
     "status": "completed"
    },
    "tags": []
   },
   "outputs": [],
   "source": [
    "# get f1_score\n",
    "f1_score=f1_score(y_test,rfc_pred, average=\"macro\")"
   ]
  },
  {
   "cell_type": "code",
   "execution_count": 14,
   "metadata": {
    "execution": {
     "iopub.execute_input": "2020-10-18T23:56:08.680789Z",
     "iopub.status.busy": "2020-10-18T23:56:08.679831Z",
     "iopub.status.idle": "2020-10-18T23:56:08.684498Z",
     "shell.execute_reply": "2020-10-18T23:56:08.683779Z"
    },
    "papermill": {
     "duration": 0.031514,
     "end_time": "2020-10-18T23:56:08.684655",
     "exception": false,
     "start_time": "2020-10-18T23:56:08.653141",
     "status": "completed"
    },
    "tags": []
   },
   "outputs": [
    {
     "name": "stdout",
     "output_type": "stream",
     "text": [
      "0.5679851300525272\n"
     ]
    }
   ],
   "source": [
    "print(f1_score)"
   ]
  },
  {
   "cell_type": "code",
   "execution_count": 15,
   "metadata": {
    "execution": {
     "iopub.execute_input": "2020-10-18T23:56:08.734520Z",
     "iopub.status.busy": "2020-10-18T23:56:08.733639Z",
     "iopub.status.idle": "2020-10-18T23:56:08.748965Z",
     "shell.execute_reply": "2020-10-18T23:56:08.748076Z"
    },
    "papermill": {
     "duration": 0.043036,
     "end_time": "2020-10-18T23:56:08.749109",
     "exception": false,
     "start_time": "2020-10-18T23:56:08.706073",
     "status": "completed"
    },
    "tags": []
   },
   "outputs": [
    {
     "name": "stdout",
     "output_type": "stream",
     "text": [
      "              precision    recall  f1-score   support\n",
      "\n",
      "          -1       0.73      0.23      0.36       247\n",
      "           0       0.57      0.38      0.46       466\n",
      "           1       0.72      0.87      0.79      1749\n",
      "           2       0.70      0.65      0.67       702\n",
      "\n",
      "    accuracy                           0.70      3164\n",
      "   macro avg       0.68      0.53      0.57      3164\n",
      "weighted avg       0.69      0.70      0.68      3164\n",
      "\n"
     ]
    }
   ],
   "source": [
    "from sklearn import metrics\n",
    "\n",
    "print(metrics.classification_report(y_test, rfc_pred))"
   ]
  },
  {
   "cell_type": "code",
   "execution_count": 16,
   "metadata": {
    "execution": {
     "iopub.execute_input": "2020-10-18T23:56:08.842027Z",
     "iopub.status.busy": "2020-10-18T23:56:08.821209Z",
     "iopub.status.idle": "2020-10-18T23:56:16.280832Z",
     "shell.execute_reply": "2020-10-18T23:56:16.280026Z"
    },
    "papermill": {
     "duration": 7.509523,
     "end_time": "2020-10-18T23:56:16.280965",
     "exception": false,
     "start_time": "2020-10-18T23:56:08.771442",
     "status": "completed"
    },
    "tags": []
   },
   "outputs": [],
   "source": [
    "# model with test data\n",
    "y_pred = rfc.predict( tfidfconverter.transform(test['message']))"
   ]
  },
  {
   "cell_type": "code",
   "execution_count": 17,
   "metadata": {
    "execution": {
     "iopub.execute_input": "2020-10-18T23:56:16.340044Z",
     "iopub.status.busy": "2020-10-18T23:56:16.338949Z",
     "iopub.status.idle": "2020-10-18T23:56:16.345946Z",
     "shell.execute_reply": "2020-10-18T23:56:16.344661Z"
    },
    "papermill": {
     "duration": 0.04265,
     "end_time": "2020-10-18T23:56:16.346148",
     "exception": false,
     "start_time": "2020-10-18T23:56:16.303498",
     "status": "completed"
    },
    "tags": []
   },
   "outputs": [
    {
     "data": {
      "text/html": [
       "<div>\n",
       "<style scoped>\n",
       "    .dataframe tbody tr th:only-of-type {\n",
       "        vertical-align: middle;\n",
       "    }\n",
       "\n",
       "    .dataframe tbody tr th {\n",
       "        vertical-align: top;\n",
       "    }\n",
       "\n",
       "    .dataframe thead th {\n",
       "        text-align: right;\n",
       "    }\n",
       "</style>\n",
       "<table border=\"1\" class=\"dataframe\">\n",
       "  <thead>\n",
       "    <tr style=\"text-align: right;\">\n",
       "      <th></th>\n",
       "      <th>message</th>\n",
       "      <th>tweetid</th>\n",
       "      <th>sentiment</th>\n",
       "    </tr>\n",
       "  </thead>\n",
       "  <tbody>\n",
       "    <tr>\n",
       "      <th>0</th>\n",
       "      <td>Europe will now be looking to China to make su...</td>\n",
       "      <td>169760</td>\n",
       "      <td>2</td>\n",
       "    </tr>\n",
       "    <tr>\n",
       "      <th>1</th>\n",
       "      <td>Combine this with the polling of staffers re c...</td>\n",
       "      <td>35326</td>\n",
       "      <td>1</td>\n",
       "    </tr>\n",
       "    <tr>\n",
       "      <th>2</th>\n",
       "      <td>The scary, unimpeachable evidence that climate...</td>\n",
       "      <td>224985</td>\n",
       "      <td>1</td>\n",
       "    </tr>\n",
       "    <tr>\n",
       "      <th>3</th>\n",
       "      <td>@Karoli @morgfair @OsborneInk @dailykos \\nPuti...</td>\n",
       "      <td>476263</td>\n",
       "      <td>1</td>\n",
       "    </tr>\n",
       "    <tr>\n",
       "      <th>4</th>\n",
       "      <td>RT @FakeWillMoore: 'Female orgasms cause globa...</td>\n",
       "      <td>872928</td>\n",
       "      <td>0</td>\n",
       "    </tr>\n",
       "  </tbody>\n",
       "</table>\n",
       "</div>"
      ],
      "text/plain": [
       "                                             message  tweetid  sentiment\n",
       "0  Europe will now be looking to China to make su...   169760          2\n",
       "1  Combine this with the polling of staffers re c...    35326          1\n",
       "2  The scary, unimpeachable evidence that climate...   224985          1\n",
       "3  @Karoli @morgfair @OsborneInk @dailykos \\nPuti...   476263          1\n",
       "4  RT @FakeWillMoore: 'Female orgasms cause globa...   872928          0"
      ]
     },
     "execution_count": 17,
     "metadata": {},
     "output_type": "execute_result"
    }
   ],
   "source": [
    "#creat sentiment from the predicts\n",
    "test['sentiment'] = y_pred\n",
    "test.head()"
   ]
  },
  {
   "cell_type": "code",
   "execution_count": 18,
   "metadata": {
    "execution": {
     "iopub.execute_input": "2020-10-18T23:56:16.412496Z",
     "iopub.status.busy": "2020-10-18T23:56:16.411453Z",
     "iopub.status.idle": "2020-10-18T23:56:16.416187Z",
     "shell.execute_reply": "2020-10-18T23:56:16.415455Z"
    },
    "papermill": {
     "duration": 0.042764,
     "end_time": "2020-10-18T23:56:16.416344",
     "exception": false,
     "start_time": "2020-10-18T23:56:16.373580",
     "status": "completed"
    },
    "tags": []
   },
   "outputs": [
    {
     "name": "stdout",
     "output_type": "stream",
     "text": [
      "[ 2  1  0 -1]\n"
     ]
    }
   ],
   "source": [
    "print(test['sentiment'].unique())"
   ]
  },
  {
   "cell_type": "code",
   "execution_count": 19,
   "metadata": {
    "execution": {
     "iopub.execute_input": "2020-10-18T23:56:16.480019Z",
     "iopub.status.busy": "2020-10-18T23:56:16.479221Z",
     "iopub.status.idle": "2020-10-18T23:56:16.879115Z",
     "shell.execute_reply": "2020-10-18T23:56:16.877975Z"
    },
    "papermill": {
     "duration": 0.435553,
     "end_time": "2020-10-18T23:56:16.879340",
     "exception": false,
     "start_time": "2020-10-18T23:56:16.443787",
     "status": "completed"
    },
    "tags": []
   },
   "outputs": [],
   "source": [
    "# convert output to csv\n",
    "test[['tweetid','sentiment']].to_csv('tebogo_mokgonyana_Log_regresssion_submission_1.csv', index=False)"
   ]
  },
  {
   "cell_type": "code",
   "execution_count": null,
   "metadata": {
    "papermill": {
     "duration": 0.026963,
     "end_time": "2020-10-18T23:56:16.933450",
     "exception": false,
     "start_time": "2020-10-18T23:56:16.906487",
     "status": "completed"
    },
    "tags": []
   },
   "outputs": [],
   "source": []
  }
 ],
 "metadata": {
  "kernelspec": {
   "display_name": "Python 3",
   "language": "python",
   "name": "python3"
  },
  "language_info": {
   "codemirror_mode": {
    "name": "ipython",
    "version": 3
   },
   "file_extension": ".py",
   "mimetype": "text/x-python",
   "name": "python",
   "nbconvert_exporter": "python",
   "pygments_lexer": "ipython3",
   "version": "3.7.6"
  },
  "papermill": {
   "duration": 363.283004,
   "end_time": "2020-10-18T23:56:17.070151",
   "environment_variables": {},
   "exception": null,
   "input_path": "__notebook__.ipynb",
   "output_path": "__notebook__.ipynb",
   "parameters": {},
   "start_time": "2020-10-18T23:50:13.787147",
   "version": "2.1.0"
  }
 },
 "nbformat": 4,
 "nbformat_minor": 4
}
